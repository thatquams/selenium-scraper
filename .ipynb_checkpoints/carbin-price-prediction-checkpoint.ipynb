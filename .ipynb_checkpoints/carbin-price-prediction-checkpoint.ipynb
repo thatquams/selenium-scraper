{
 "cells": [
  {
   "cell_type": "code",
   "execution_count": 1,
   "id": "79944f08",
   "metadata": {},
   "outputs": [
    {
     "name": "stdout",
     "output_type": "stream",
     "text": [
      "Requirement already satisfied: category_encoders in c:\\users\\xps 15\\anaconda3\\lib\\site-packages (2.6.3)\n",
      "Requirement already satisfied: numpy>=1.14.0 in c:\\users\\xps 15\\anaconda3\\lib\\site-packages (from category_encoders) (1.24.3)\n",
      "Requirement already satisfied: scikit-learn>=0.20.0 in c:\\users\\xps 15\\anaconda3\\lib\\site-packages (from category_encoders) (1.3.0)\n",
      "Requirement already satisfied: scipy>=1.0.0 in c:\\users\\xps 15\\anaconda3\\lib\\site-packages (from category_encoders) (1.11.1)\n",
      "Requirement already satisfied: statsmodels>=0.9.0 in c:\\users\\xps 15\\anaconda3\\lib\\site-packages (from category_encoders) (0.14.0)\n",
      "Requirement already satisfied: pandas>=1.0.5 in c:\\users\\xps 15\\anaconda3\\lib\\site-packages (from category_encoders) (2.1.4)\n",
      "Requirement already satisfied: patsy>=0.5.1 in c:\\users\\xps 15\\anaconda3\\lib\\site-packages (from category_encoders) (0.5.3)\n",
      "Requirement already satisfied: python-dateutil>=2.8.2 in c:\\users\\xps 15\\anaconda3\\lib\\site-packages (from pandas>=1.0.5->category_encoders) (2.8.2)\n",
      "Requirement already satisfied: pytz>=2020.1 in c:\\users\\xps 15\\anaconda3\\lib\\site-packages (from pandas>=1.0.5->category_encoders) (2023.3.post1)\n",
      "Requirement already satisfied: tzdata>=2022.1 in c:\\users\\xps 15\\anaconda3\\lib\\site-packages (from pandas>=1.0.5->category_encoders) (2023.3)\n",
      "Requirement already satisfied: six in c:\\users\\xps 15\\anaconda3\\lib\\site-packages (from patsy>=0.5.1->category_encoders) (1.16.0)\n",
      "Requirement already satisfied: joblib>=1.1.1 in c:\\users\\xps 15\\anaconda3\\lib\\site-packages (from scikit-learn>=0.20.0->category_encoders) (1.2.0)\n",
      "Requirement already satisfied: threadpoolctl>=2.0.0 in c:\\users\\xps 15\\anaconda3\\lib\\site-packages (from scikit-learn>=0.20.0->category_encoders) (2.2.0)\n",
      "Requirement already satisfied: packaging>=21.3 in c:\\users\\xps 15\\anaconda3\\lib\\site-packages (from statsmodels>=0.9.0->category_encoders) (23.1)\n"
     ]
    }
   ],
   "source": [
    "!pip install category_encoders"
   ]
  },
  {
   "cell_type": "code",
   "execution_count": 48,
   "id": "e62f8733",
   "metadata": {},
   "outputs": [],
   "source": [
    "import numpy as np\n",
    "import pandas as pd\n",
    "import matplotlib.pyplot as plt\n",
    "import matplotlib\n",
    "import pickle\n",
    "from category_encoders import TargetEncoder, OneHotEncoder\n",
    "from sklearn.linear_model import LinearRegression, Lasso\n",
    "from sklearn.tree import DecisionTreeRegressor \n",
    "from sklearn.ensemble import RandomForestRegressor \n",
    "from sklearn.model_selection import train_test_split \n",
    "from warnings import simplefilter\n",
    "from sklearn.preprocessing import OneHotEncoder\n",
    "\n",
    "simplefilter(action='ignore', category=FutureWarning)\n",
    "%matplotlib inline"
   ]
  },
  {
   "cell_type": "code",
   "execution_count": 2,
   "id": "62631a8d",
   "metadata": {},
   "outputs": [
    {
     "data": {
      "text/html": [
       "<div>\n",
       "<style scoped>\n",
       "    .dataframe tbody tr th:only-of-type {\n",
       "        vertical-align: middle;\n",
       "    }\n",
       "\n",
       "    .dataframe tbody tr th {\n",
       "        vertical-align: top;\n",
       "    }\n",
       "\n",
       "    .dataframe thead th {\n",
       "        text-align: right;\n",
       "    }\n",
       "</style>\n",
       "<table border=\"1\" class=\"dataframe\">\n",
       "  <thead>\n",
       "    <tr style=\"text-align: right;\">\n",
       "      <th></th>\n",
       "      <th>Car Id</th>\n",
       "      <th>Scraped Date</th>\n",
       "      <th>Brand</th>\n",
       "      <th>Model</th>\n",
       "      <th>Condition</th>\n",
       "      <th>Year</th>\n",
       "      <th>Transmission</th>\n",
       "      <th>Fuel</th>\n",
       "      <th>Mileage</th>\n",
       "      <th>Price</th>\n",
       "    </tr>\n",
       "  </thead>\n",
       "  <tbody>\n",
       "    <tr>\n",
       "      <th>1030</th>\n",
       "      <td>vUXUv</td>\n",
       "      <td>2024-06-09</td>\n",
       "      <td>Toyota</td>\n",
       "      <td>Highlander</td>\n",
       "      <td>Nigerian Used</td>\n",
       "      <td>2004</td>\n",
       "      <td>Automatic</td>\n",
       "      <td>Petrol</td>\n",
       "      <td>244550 km</td>\n",
       "      <td>6,760,000</td>\n",
       "    </tr>\n",
       "    <tr>\n",
       "      <th>626</th>\n",
       "      <td>8eFxR</td>\n",
       "      <td>2024-06-09</td>\n",
       "      <td>Infiniti</td>\n",
       "      <td>QX80</td>\n",
       "      <td>Nigerian Used</td>\n",
       "      <td>2014</td>\n",
       "      <td>Automatic</td>\n",
       "      <td>Petrol</td>\n",
       "      <td>71028 km</td>\n",
       "      <td>28,350,000</td>\n",
       "    </tr>\n",
       "  </tbody>\n",
       "</table>\n",
       "</div>"
      ],
      "text/plain": [
       "     Car Id Scraped Date     Brand       Model      Condition  Year  \\\n",
       "1030  vUXUv   2024-06-09    Toyota  Highlander  Nigerian Used  2004   \n",
       "626   8eFxR   2024-06-09  Infiniti        QX80  Nigerian Used  2014   \n",
       "\n",
       "     Transmission    Fuel    Mileage       Price  \n",
       "1030    Automatic  Petrol  244550 km   6,760,000  \n",
       "626     Automatic  Petrol   71028 km  28,350,000  "
      ]
     },
     "execution_count": 2,
     "metadata": {},
     "output_type": "execute_result"
    }
   ],
   "source": [
    "df = pd.read_csv(\"scrappedCars.csv\").drop([\"Unnamed: 0\",\"Colour\"], axis=1)\n",
    "df.sample(2)"
   ]
  },
  {
   "cell_type": "code",
   "execution_count": 3,
   "id": "f9c951b0",
   "metadata": {},
   "outputs": [
    {
     "data": {
      "text/plain": [
       "(1455, 10)"
      ]
     },
     "execution_count": 3,
     "metadata": {},
     "output_type": "execute_result"
    }
   ],
   "source": [
    "df.shape"
   ]
  },
  {
   "cell_type": "code",
   "execution_count": 4,
   "id": "9f41a7bb",
   "metadata": {},
   "outputs": [],
   "source": [
    "# \"Nigerian Used is also the same as Local Used\"\n",
    "df[\"Condition\"] = df[\"Condition\"].apply(lambda x : x.replace(\"Local Used\",\"Nigerian Used\"))\n",
    "\n",
    "# # lambda function to convert kilometer to meter\n",
    "df[\"Mileage\"] = df[\"Mileage\"].apply(lambda x: round(float(x.replace(\",\", \"\").strip(\" MILES\").split()[0])/1.609344) \n",
    "                                    if len(x.split()) > 1 and (x.split()[1] == \"KM\") | (x.split()[1] == \"km\") \n",
    "                                    else int(float(x.replace(\",\", \"\").strip(\" MILES\"))))\n",
    "\n",
    "# clean prices\n",
    "df[\"Price\"] = df[\"Price\"].apply(lambda x: int(x.replace(\",\",\"\")))"
   ]
  },
  {
   "cell_type": "code",
   "execution_count": 5,
   "id": "0d45f300",
   "metadata": {},
   "outputs": [
    {
     "data": {
      "text/html": [
       "<div>\n",
       "<style scoped>\n",
       "    .dataframe tbody tr th:only-of-type {\n",
       "        vertical-align: middle;\n",
       "    }\n",
       "\n",
       "    .dataframe tbody tr th {\n",
       "        vertical-align: top;\n",
       "    }\n",
       "\n",
       "    .dataframe thead th {\n",
       "        text-align: right;\n",
       "    }\n",
       "</style>\n",
       "<table border=\"1\" class=\"dataframe\">\n",
       "  <thead>\n",
       "    <tr style=\"text-align: right;\">\n",
       "      <th></th>\n",
       "      <th>Car Id</th>\n",
       "      <th>Scraped Date</th>\n",
       "      <th>Brand</th>\n",
       "      <th>Model</th>\n",
       "      <th>Condition</th>\n",
       "      <th>Year</th>\n",
       "      <th>Transmission</th>\n",
       "      <th>Fuel</th>\n",
       "      <th>Mileage</th>\n",
       "      <th>Price</th>\n",
       "    </tr>\n",
       "  </thead>\n",
       "  <tbody>\n",
       "    <tr>\n",
       "      <th>1359</th>\n",
       "      <td>5NsQ2</td>\n",
       "      <td>2024-06-09</td>\n",
       "      <td>Toyota</td>\n",
       "      <td>Highlander</td>\n",
       "      <td>Nigerian Used</td>\n",
       "      <td>2011</td>\n",
       "      <td>Automatic</td>\n",
       "      <td>Petrol</td>\n",
       "      <td>51250</td>\n",
       "      <td>9030000</td>\n",
       "    </tr>\n",
       "    <tr>\n",
       "      <th>972</th>\n",
       "      <td>Pt9Xc</td>\n",
       "      <td>2024-06-09</td>\n",
       "      <td>Lexus</td>\n",
       "      <td>RX</td>\n",
       "      <td>Nigerian Used</td>\n",
       "      <td>2011</td>\n",
       "      <td>Automatic</td>\n",
       "      <td>Petrol</td>\n",
       "      <td>83765</td>\n",
       "      <td>13440000</td>\n",
       "    </tr>\n",
       "    <tr>\n",
       "      <th>17</th>\n",
       "      <td>1loAk</td>\n",
       "      <td>2024-06-09</td>\n",
       "      <td>Lexus</td>\n",
       "      <td>RX</td>\n",
       "      <td>Nigerian Used</td>\n",
       "      <td>1999</td>\n",
       "      <td>Automatic</td>\n",
       "      <td>Petrol</td>\n",
       "      <td>57475</td>\n",
       "      <td>3375000</td>\n",
       "    </tr>\n",
       "    <tr>\n",
       "      <th>1426</th>\n",
       "      <td>WQpOB</td>\n",
       "      <td>2024-06-09</td>\n",
       "      <td>Mitsubishi</td>\n",
       "      <td>Raider</td>\n",
       "      <td>Foreign Used</td>\n",
       "      <td>2008</td>\n",
       "      <td>Automatic</td>\n",
       "      <td>Petrol</td>\n",
       "      <td>244093</td>\n",
       "      <td>8925000</td>\n",
       "    </tr>\n",
       "    <tr>\n",
       "      <th>312</th>\n",
       "      <td>LYFrc</td>\n",
       "      <td>2024-06-09</td>\n",
       "      <td>Toyota</td>\n",
       "      <td>Venza</td>\n",
       "      <td>Nigerian Used</td>\n",
       "      <td>2009</td>\n",
       "      <td>Automatic</td>\n",
       "      <td>Petrol</td>\n",
       "      <td>133530</td>\n",
       "      <td>10687500</td>\n",
       "    </tr>\n",
       "    <tr>\n",
       "      <th>994</th>\n",
       "      <td>DZ86T</td>\n",
       "      <td>2024-06-09</td>\n",
       "      <td>Toyota</td>\n",
       "      <td>Corolla</td>\n",
       "      <td>Nigerian Used</td>\n",
       "      <td>2006</td>\n",
       "      <td>Automatic</td>\n",
       "      <td>Petrol</td>\n",
       "      <td>186411</td>\n",
       "      <td>4680000</td>\n",
       "    </tr>\n",
       "    <tr>\n",
       "      <th>92</th>\n",
       "      <td>FwrHa</td>\n",
       "      <td>2024-06-09</td>\n",
       "      <td>Mercedes-Benz</td>\n",
       "      <td>E320</td>\n",
       "      <td>Nigerian Used</td>\n",
       "      <td>2004</td>\n",
       "      <td>Automatic</td>\n",
       "      <td>Petrol</td>\n",
       "      <td>108996</td>\n",
       "      <td>3037500</td>\n",
       "    </tr>\n",
       "    <tr>\n",
       "      <th>534</th>\n",
       "      <td>W250N</td>\n",
       "      <td>2024-06-09</td>\n",
       "      <td>Mercedes-Benz</td>\n",
       "      <td>E350</td>\n",
       "      <td>Nigerian Used</td>\n",
       "      <td>2011</td>\n",
       "      <td>Automatic</td>\n",
       "      <td>Petrol</td>\n",
       "      <td>149027</td>\n",
       "      <td>10500000</td>\n",
       "    </tr>\n",
       "    <tr>\n",
       "      <th>154</th>\n",
       "      <td>mLw0V</td>\n",
       "      <td>2024-06-09</td>\n",
       "      <td>Lexus</td>\n",
       "      <td>RX</td>\n",
       "      <td>Nigerian Used</td>\n",
       "      <td>1999</td>\n",
       "      <td>Automatic</td>\n",
       "      <td>Petrol</td>\n",
       "      <td>75386</td>\n",
       "      <td>4500000</td>\n",
       "    </tr>\n",
       "    <tr>\n",
       "      <th>182</th>\n",
       "      <td>OZL9y</td>\n",
       "      <td>2024-06-09</td>\n",
       "      <td>Lexus</td>\n",
       "      <td>GX</td>\n",
       "      <td>Nigerian Used</td>\n",
       "      <td>2003</td>\n",
       "      <td>Automatic</td>\n",
       "      <td>Petrol</td>\n",
       "      <td>150387</td>\n",
       "      <td>9000000</td>\n",
       "    </tr>\n",
       "  </tbody>\n",
       "</table>\n",
       "</div>"
      ],
      "text/plain": [
       "     Car Id Scraped Date          Brand       Model      Condition  Year  \\\n",
       "1359  5NsQ2   2024-06-09         Toyota  Highlander  Nigerian Used  2011   \n",
       "972   Pt9Xc   2024-06-09          Lexus          RX  Nigerian Used  2011   \n",
       "17    1loAk   2024-06-09          Lexus          RX  Nigerian Used  1999   \n",
       "1426  WQpOB   2024-06-09     Mitsubishi      Raider   Foreign Used  2008   \n",
       "312   LYFrc   2024-06-09         Toyota       Venza  Nigerian Used  2009   \n",
       "994   DZ86T   2024-06-09         Toyota     Corolla  Nigerian Used  2006   \n",
       "92    FwrHa   2024-06-09  Mercedes-Benz        E320  Nigerian Used  2004   \n",
       "534   W250N   2024-06-09  Mercedes-Benz        E350  Nigerian Used  2011   \n",
       "154   mLw0V   2024-06-09          Lexus          RX  Nigerian Used  1999   \n",
       "182   OZL9y   2024-06-09          Lexus          GX  Nigerian Used  2003   \n",
       "\n",
       "     Transmission    Fuel  Mileage     Price  \n",
       "1359    Automatic  Petrol    51250   9030000  \n",
       "972     Automatic  Petrol    83765  13440000  \n",
       "17      Automatic  Petrol    57475   3375000  \n",
       "1426    Automatic  Petrol   244093   8925000  \n",
       "312     Automatic  Petrol   133530  10687500  \n",
       "994     Automatic  Petrol   186411   4680000  \n",
       "92      Automatic  Petrol   108996   3037500  \n",
       "534     Automatic  Petrol   149027  10500000  \n",
       "154     Automatic  Petrol    75386   4500000  \n",
       "182     Automatic  Petrol   150387   9000000  "
      ]
     },
     "execution_count": 5,
     "metadata": {},
     "output_type": "execute_result"
    }
   ],
   "source": [
    "df.sample(10)"
   ]
  },
  {
   "cell_type": "code",
   "execution_count": 6,
   "id": "9b5849f9",
   "metadata": {
    "scrolled": true
   },
   "outputs": [
    {
     "data": {
      "text/plain": [
       "array([2004, 2007, 2012, 2008, 2011, 2020, 2006, 2015, 2010, 1999, 2017,\n",
       "       2009, 2013, 2005, 2003, 2016, 2001, 2014, 2000, 2002, 2023, 1998,\n",
       "       2019, 2022, 2018, 2021, 1996, 1994, 1997], dtype=int64)"
      ]
     },
     "execution_count": 6,
     "metadata": {},
     "output_type": "execute_result"
    }
   ],
   "source": [
    "df[\"Year\"].unique()"
   ]
  },
  {
   "cell_type": "code",
   "execution_count": 7,
   "id": "0a3074e4",
   "metadata": {
    "scrolled": true
   },
   "outputs": [
    {
     "name": "stdout",
     "output_type": "stream",
     "text": [
      " Data Dimension : (1455, 10)\n",
      "\n"
     ]
    }
   ],
   "source": [
    "print(f\" Data Dimension : {df.shape}\\n\")"
   ]
  },
  {
   "cell_type": "code",
   "execution_count": 8,
   "id": "c3cfea25",
   "metadata": {},
   "outputs": [
    {
     "data": {
      "text/plain": [
       "Brand             43\n",
       "Model            209\n",
       "Condition          3\n",
       "Year              29\n",
       "Transmission       4\n",
       "Fuel               3\n",
       "Mileage         1421\n",
       "Price            436\n",
       "dtype: int64"
      ]
     },
     "execution_count": 8,
     "metadata": {},
     "output_type": "execute_result"
    }
   ],
   "source": [
    "# df = df0.drop(['URL', 'Date Scraped', 'Title'], axis=1)\n",
    "df = df.drop(['Car Id', 'Scraped Date'], axis=1)\n",
    "df.nunique()"
   ]
  },
  {
   "cell_type": "code",
   "execution_count": null,
   "id": "fae99e06",
   "metadata": {},
   "outputs": [],
   "source": []
  },
  {
   "cell_type": "code",
   "execution_count": 9,
   "id": "b025ae10",
   "metadata": {},
   "outputs": [
    {
     "data": {
      "text/html": [
       "<div>\n",
       "<style scoped>\n",
       "    .dataframe tbody tr th:only-of-type {\n",
       "        vertical-align: middle;\n",
       "    }\n",
       "\n",
       "    .dataframe tbody tr th {\n",
       "        vertical-align: top;\n",
       "    }\n",
       "\n",
       "    .dataframe thead th {\n",
       "        text-align: right;\n",
       "    }\n",
       "</style>\n",
       "<table border=\"1\" class=\"dataframe\">\n",
       "  <thead>\n",
       "    <tr style=\"text-align: right;\">\n",
       "      <th></th>\n",
       "      <th></th>\n",
       "      <th>Brand</th>\n",
       "      <th>Model</th>\n",
       "      <th>Condition</th>\n",
       "      <th>Year</th>\n",
       "      <th>Mileage</th>\n",
       "      <th>Price</th>\n",
       "    </tr>\n",
       "    <tr>\n",
       "      <th>Transmission</th>\n",
       "      <th>Fuel</th>\n",
       "      <th></th>\n",
       "      <th></th>\n",
       "      <th></th>\n",
       "      <th></th>\n",
       "      <th></th>\n",
       "      <th></th>\n",
       "    </tr>\n",
       "  </thead>\n",
       "  <tbody>\n",
       "    <tr>\n",
       "      <th>AMT</th>\n",
       "      <th>Petrol</th>\n",
       "      <td>2</td>\n",
       "      <td>2</td>\n",
       "      <td>2</td>\n",
       "      <td>2</td>\n",
       "      <td>2</td>\n",
       "      <td>2</td>\n",
       "    </tr>\n",
       "    <tr>\n",
       "      <th rowspan=\"3\" valign=\"top\">Automatic</th>\n",
       "      <th>Diesel</th>\n",
       "      <td>2</td>\n",
       "      <td>2</td>\n",
       "      <td>2</td>\n",
       "      <td>3</td>\n",
       "      <td>2</td>\n",
       "      <td>3</td>\n",
       "    </tr>\n",
       "    <tr>\n",
       "      <th>Hybrid</th>\n",
       "      <td>3</td>\n",
       "      <td>5</td>\n",
       "      <td>2</td>\n",
       "      <td>6</td>\n",
       "      <td>9</td>\n",
       "      <td>9</td>\n",
       "    </tr>\n",
       "    <tr>\n",
       "      <th>Petrol</th>\n",
       "      <td>38</td>\n",
       "      <td>193</td>\n",
       "      <td>3</td>\n",
       "      <td>27</td>\n",
       "      <td>1323</td>\n",
       "      <td>423</td>\n",
       "    </tr>\n",
       "    <tr>\n",
       "      <th>CVT</th>\n",
       "      <th>Petrol</th>\n",
       "      <td>6</td>\n",
       "      <td>10</td>\n",
       "      <td>2</td>\n",
       "      <td>8</td>\n",
       "      <td>16</td>\n",
       "      <td>15</td>\n",
       "    </tr>\n",
       "    <tr>\n",
       "      <th rowspan=\"2\" valign=\"top\">Manual</th>\n",
       "      <th>Diesel</th>\n",
       "      <td>2</td>\n",
       "      <td>2</td>\n",
       "      <td>2</td>\n",
       "      <td>2</td>\n",
       "      <td>2</td>\n",
       "      <td>2</td>\n",
       "    </tr>\n",
       "    <tr>\n",
       "      <th>Petrol</th>\n",
       "      <td>17</td>\n",
       "      <td>37</td>\n",
       "      <td>3</td>\n",
       "      <td>21</td>\n",
       "      <td>73</td>\n",
       "      <td>42</td>\n",
       "    </tr>\n",
       "  </tbody>\n",
       "</table>\n",
       "</div>"
      ],
      "text/plain": [
       "                     Brand  Model  Condition  Year  Mileage  Price\n",
       "Transmission Fuel                                                 \n",
       "AMT          Petrol      2      2          2     2        2      2\n",
       "Automatic    Diesel      2      2          2     3        2      3\n",
       "             Hybrid      3      5          2     6        9      9\n",
       "             Petrol     38    193          3    27     1323    423\n",
       "CVT          Petrol      6     10          2     8       16     15\n",
       "Manual       Diesel      2      2          2     2        2      2\n",
       "             Petrol     17     37          3    21       73     42"
      ]
     },
     "execution_count": 9,
     "metadata": {},
     "output_type": "execute_result"
    }
   ],
   "source": [
    "df.groupby(['Transmission', 'Fuel']).nunique()"
   ]
  },
  {
   "cell_type": "code",
   "execution_count": null,
   "id": "2b1daff3",
   "metadata": {},
   "outputs": [],
   "source": []
  },
  {
   "cell_type": "markdown",
   "id": "5265b5f9",
   "metadata": {},
   "source": [
    "Let's focus on `Petrol` + `Automatic`"
   ]
  },
  {
   "cell_type": "code",
   "execution_count": 10,
   "id": "73e3b7ae",
   "metadata": {},
   "outputs": [
    {
     "data": {
      "image/png": "[encoded data removed]",
      "text/plain": [
       "<Figure size 640x480 with 1 Axes>"
      ]
     },
     "metadata": {},
     "output_type": "display_data"
    }
   ],
   "source": [
    "df_TF = df[(df['Fuel'] == 'Petrol') & (df['Transmission'] == 'Automatic') & (df['Mileage'] > 0)]\n",
    "\n",
    "df_TF.groupby('Year')['Price'].mean().plot(kind='bar');"
   ]
  },
  {
   "cell_type": "code",
   "execution_count": null,
   "id": "9b8c886d",
   "metadata": {},
   "outputs": [],
   "source": []
  },
  {
   "cell_type": "code",
   "execution_count": 11,
   "id": "2aa16197",
   "metadata": {},
   "outputs": [],
   "source": [
    "X = pd.concat([pd.get_dummies(df['Condition']), df[['Year', 'Mileage']]], axis=1)\n",
    "y = df['Price']\n",
    "X_train, X_test, y_train, y_test = train_test_split(X, y, test_size=0.2, random_state=10)"
   ]
  },
  {
   "cell_type": "code",
   "execution_count": null,
   "id": "1e286bee",
   "metadata": {},
   "outputs": [],
   "source": []
  },
  {
   "cell_type": "code",
   "execution_count": 12,
   "id": "67fa7a06",
   "metadata": {},
   "outputs": [
    {
     "data": {
      "text/plain": [
       "0.38893646475528065"
      ]
     },
     "execution_count": 12,
     "metadata": {},
     "output_type": "execute_result"
    }
   ],
   "source": [
    "model = LinearRegression()\n",
    "model.fit(X_train, y_train)\n",
    "model.score(X_test, y_test)"
   ]
  },
  {
   "cell_type": "code",
   "execution_count": 13,
   "id": "263123d4",
   "metadata": {},
   "outputs": [
    {
     "data": {
      "text/plain": [
       "0.46006188763984657"
      ]
     },
     "execution_count": 13,
     "metadata": {},
     "output_type": "execute_result"
    }
   ],
   "source": [
    "model = RandomForestRegressor(criterion='friedman_mse', n_estimators=26)\n",
    "model.fit(X_train, y_train)\n",
    "model.score(X_test, y_test)"
   ]
  },
  {
   "cell_type": "code",
   "execution_count": null,
   "id": "8222ffc2",
   "metadata": {},
   "outputs": [],
   "source": []
  },
  {
   "cell_type": "markdown",
   "id": "85212f27",
   "metadata": {},
   "source": [
    "Need to include categorical data like car `Model`"
   ]
  },
  {
   "cell_type": "code",
   "execution_count": 45,
   "id": "f3c456ff",
   "metadata": {},
   "outputs": [],
   "source": [
    "X = df[['Brand', 'Model', 'Year', 'Mileage', 'Condition', 'Fuel', 'Transmission']]\n",
    "y = df['Price']\n",
    "X_train, X_test, y_train, y_test = train_test_split(X, y, test_size=0.2, random_state=100)"
   ]
  },
  {
   "cell_type": "code",
   "execution_count": 46,
   "id": "c6fe4934",
   "metadata": {
    "scrolled": false
   },
   "outputs": [
    {
     "data": {
      "text/html": [
       "<div>\n",
       "<style scoped>\n",
       "    .dataframe tbody tr th:only-of-type {\n",
       "        vertical-align: middle;\n",
       "    }\n",
       "\n",
       "    .dataframe tbody tr th {\n",
       "        vertical-align: top;\n",
       "    }\n",
       "\n",
       "    .dataframe thead th {\n",
       "        text-align: right;\n",
       "    }\n",
       "</style>\n",
       "<table border=\"1\" class=\"dataframe\">\n",
       "  <thead>\n",
       "    <tr style=\"text-align: right;\">\n",
       "      <th></th>\n",
       "      <th>Brand</th>\n",
       "      <th>Model</th>\n",
       "      <th>Year</th>\n",
       "      <th>Mileage</th>\n",
       "      <th>Fuel</th>\n",
       "      <th>Transmission</th>\n",
       "      <th>Condition_Brand New</th>\n",
       "      <th>Condition_Foreign Used</th>\n",
       "      <th>Condition_Nigerian Used</th>\n",
       "    </tr>\n",
       "  </thead>\n",
       "  <tbody>\n",
       "    <tr>\n",
       "      <th>813</th>\n",
       "      <td>Toyota</td>\n",
       "      <td>Corolla</td>\n",
       "      <td>2010</td>\n",
       "      <td>128670</td>\n",
       "      <td>Petrol</td>\n",
       "      <td>Automatic</td>\n",
       "      <td>0</td>\n",
       "      <td>0</td>\n",
       "      <td>1</td>\n",
       "    </tr>\n",
       "    <tr>\n",
       "      <th>1024</th>\n",
       "      <td>Hyundai</td>\n",
       "      <td>Accent</td>\n",
       "      <td>2008</td>\n",
       "      <td>73330</td>\n",
       "      <td>Petrol</td>\n",
       "      <td>Manual</td>\n",
       "      <td>0</td>\n",
       "      <td>0</td>\n",
       "      <td>1</td>\n",
       "    </tr>\n",
       "    <tr>\n",
       "      <th>229</th>\n",
       "      <td>Toyota</td>\n",
       "      <td>Camry</td>\n",
       "      <td>2006</td>\n",
       "      <td>105068</td>\n",
       "      <td>Petrol</td>\n",
       "      <td>Automatic</td>\n",
       "      <td>0</td>\n",
       "      <td>0</td>\n",
       "      <td>1</td>\n",
       "    </tr>\n",
       "  </tbody>\n",
       "</table>\n",
       "</div>"
      ],
      "text/plain": [
       "        Brand    Model  Year  Mileage    Fuel Transmission  \\\n",
       "813    Toyota  Corolla  2010   128670  Petrol    Automatic   \n",
       "1024  Hyundai   Accent  2008    73330  Petrol       Manual   \n",
       "229    Toyota    Camry  2006   105068  Petrol    Automatic   \n",
       "\n",
       "      Condition_Brand New  Condition_Foreign Used  Condition_Nigerian Used  \n",
       "813                     0                       0                        1  \n",
       "1024                    0                       0                        1  \n",
       "229                     0                       0                        1  "
      ]
     },
     "execution_count": 46,
     "metadata": {},
     "output_type": "execute_result"
    }
   ],
   "source": [
    "# Use pandas' get_dummies method to one-hot encode the columns\n",
    "condition = [\"Condition\"]\n",
    "# encoded_cols = pd.get_dummies(df[condition], columns=condition).replace(True,1).replace(False,0)\n",
    "\n",
    "X_train = pd.get_dummies(X_train, columns=condition).replace(True,1).replace(False,0)\n",
    "X_test = pd.get_dummies(X_test, columns=condition).replace(True,1).replace(False,0)\n",
    "\n",
    "# Drop the original columns from X_train and concatenate the encoded columns\n",
    "# X_train = pd.concat([X_train_encoded.drop(condition, axis=1), X_train_encoded], axis=1)\n",
    "# X_test = pd.concat([X_test.drop(condition, axis=1), X_test_encoded], axis=1)\n",
    "\n",
    "X_train.sample(3)"
   ]
  },
  {
   "cell_type": "code",
   "execution_count": null,
   "id": "c9d8d62e",
   "metadata": {},
   "outputs": [],
   "source": []
  },
  {
   "cell_type": "code",
   "execution_count": 51,
   "id": "1c5aa365",
   "metadata": {},
   "outputs": [],
   "source": [
    "cols = ['Brand', 'Model', \"Transmission\", \"Fuel\"]\n",
    "encoder = TargetEncoder()\n",
    "encoder.fit(X_train[cols], y_train.to_frame()['Price'])\n",
    "\n",
    "X_train = pd.concat([X_train.drop(cols, axis=1), encoder.transform(X_train[cols])], axis=1)\n",
    "X_test = pd.concat([X_test.drop(cols, axis=1), encoder.transform(X_test[cols])], axis=1)"
   ]
  },
  {
   "cell_type": "code",
   "execution_count": 52,
   "id": "151cfd25",
   "metadata": {},
   "outputs": [
    {
     "data": {
      "text/html": [
       "<div>\n",
       "<style scoped>\n",
       "    .dataframe tbody tr th:only-of-type {\n",
       "        vertical-align: middle;\n",
       "    }\n",
       "\n",
       "    .dataframe tbody tr th {\n",
       "        vertical-align: top;\n",
       "    }\n",
       "\n",
       "    .dataframe thead th {\n",
       "        text-align: right;\n",
       "    }\n",
       "</style>\n",
       "<table border=\"1\" class=\"dataframe\">\n",
       "  <thead>\n",
       "    <tr style=\"text-align: right;\">\n",
       "      <th></th>\n",
       "      <th>Year</th>\n",
       "      <th>Mileage</th>\n",
       "      <th>Condition_Brand New</th>\n",
       "      <th>Condition_Foreign Used</th>\n",
       "      <th>Condition_Nigerian Used</th>\n",
       "      <th>Brand</th>\n",
       "      <th>Model</th>\n",
       "      <th>Transmission</th>\n",
       "      <th>Fuel</th>\n",
       "    </tr>\n",
       "  </thead>\n",
       "  <tbody>\n",
       "    <tr>\n",
       "      <th>515</th>\n",
       "      <td>2015</td>\n",
       "      <td>59157</td>\n",
       "      <td>0</td>\n",
       "      <td>0</td>\n",
       "      <td>1</td>\n",
       "      <td>1.596743e+07</td>\n",
       "      <td>1.113051e+07</td>\n",
       "      <td>1.063830e+07</td>\n",
       "      <td>1.032572e+07</td>\n",
       "    </tr>\n",
       "    <tr>\n",
       "      <th>509</th>\n",
       "      <td>2010</td>\n",
       "      <td>94415</td>\n",
       "      <td>0</td>\n",
       "      <td>0</td>\n",
       "      <td>1</td>\n",
       "      <td>9.092889e+06</td>\n",
       "      <td>1.094424e+07</td>\n",
       "      <td>1.063830e+07</td>\n",
       "      <td>1.032572e+07</td>\n",
       "    </tr>\n",
       "    <tr>\n",
       "      <th>1258</th>\n",
       "      <td>2010</td>\n",
       "      <td>65100</td>\n",
       "      <td>0</td>\n",
       "      <td>0</td>\n",
       "      <td>1</td>\n",
       "      <td>1.000238e+07</td>\n",
       "      <td>1.016811e+07</td>\n",
       "      <td>1.063830e+07</td>\n",
       "      <td>1.032572e+07</td>\n",
       "    </tr>\n",
       "    <tr>\n",
       "      <th>1249</th>\n",
       "      <td>2008</td>\n",
       "      <td>167000</td>\n",
       "      <td>0</td>\n",
       "      <td>0</td>\n",
       "      <td>1</td>\n",
       "      <td>7.787661e+06</td>\n",
       "      <td>7.699014e+06</td>\n",
       "      <td>1.063830e+07</td>\n",
       "      <td>1.032572e+07</td>\n",
       "    </tr>\n",
       "    <tr>\n",
       "      <th>614</th>\n",
       "      <td>2006</td>\n",
       "      <td>127663</td>\n",
       "      <td>0</td>\n",
       "      <td>0</td>\n",
       "      <td>1</td>\n",
       "      <td>9.092889e+06</td>\n",
       "      <td>7.769482e+06</td>\n",
       "      <td>1.063830e+07</td>\n",
       "      <td>1.032572e+07</td>\n",
       "    </tr>\n",
       "    <tr>\n",
       "      <th>...</th>\n",
       "      <td>...</td>\n",
       "      <td>...</td>\n",
       "      <td>...</td>\n",
       "      <td>...</td>\n",
       "      <td>...</td>\n",
       "      <td>...</td>\n",
       "      <td>...</td>\n",
       "      <td>...</td>\n",
       "      <td>...</td>\n",
       "    </tr>\n",
       "    <tr>\n",
       "      <th>802</th>\n",
       "      <td>2011</td>\n",
       "      <td>151343</td>\n",
       "      <td>0</td>\n",
       "      <td>0</td>\n",
       "      <td>1</td>\n",
       "      <td>7.787661e+06</td>\n",
       "      <td>1.057059e+07</td>\n",
       "      <td>1.063830e+07</td>\n",
       "      <td>1.032572e+07</td>\n",
       "    </tr>\n",
       "    <tr>\n",
       "      <th>53</th>\n",
       "      <td>2008</td>\n",
       "      <td>33974</td>\n",
       "      <td>0</td>\n",
       "      <td>0</td>\n",
       "      <td>1</td>\n",
       "      <td>2.974200e+07</td>\n",
       "      <td>2.974200e+07</td>\n",
       "      <td>1.063830e+07</td>\n",
       "      <td>1.032572e+07</td>\n",
       "    </tr>\n",
       "    <tr>\n",
       "      <th>350</th>\n",
       "      <td>2002</td>\n",
       "      <td>166160</td>\n",
       "      <td>0</td>\n",
       "      <td>0</td>\n",
       "      <td>1</td>\n",
       "      <td>1.608721e+07</td>\n",
       "      <td>1.051324e+07</td>\n",
       "      <td>1.063830e+07</td>\n",
       "      <td>1.032572e+07</td>\n",
       "    </tr>\n",
       "    <tr>\n",
       "      <th>79</th>\n",
       "      <td>2008</td>\n",
       "      <td>101141</td>\n",
       "      <td>0</td>\n",
       "      <td>0</td>\n",
       "      <td>1</td>\n",
       "      <td>9.092889e+06</td>\n",
       "      <td>7.769482e+06</td>\n",
       "      <td>1.063830e+07</td>\n",
       "      <td>1.032572e+07</td>\n",
       "    </tr>\n",
       "    <tr>\n",
       "      <th>792</th>\n",
       "      <td>2012</td>\n",
       "      <td>1</td>\n",
       "      <td>0</td>\n",
       "      <td>1</td>\n",
       "      <td>0</td>\n",
       "      <td>1.424728e+07</td>\n",
       "      <td>1.424728e+07</td>\n",
       "      <td>1.063830e+07</td>\n",
       "      <td>1.177129e+07</td>\n",
       "    </tr>\n",
       "  </tbody>\n",
       "</table>\n",
       "<p>1164 rows × 9 columns</p>\n",
       "</div>"
      ],
      "text/plain": [
       "      Year  Mileage  Condition_Brand New  Condition_Foreign Used  \\\n",
       "515   2015    59157                    0                       0   \n",
       "509   2010    94415                    0                       0   \n",
       "1258  2010    65100                    0                       0   \n",
       "1249  2008   167000                    0                       0   \n",
       "614   2006   127663                    0                       0   \n",
       "...    ...      ...                  ...                     ...   \n",
       "802   2011   151343                    0                       0   \n",
       "53    2008    33974                    0                       0   \n",
       "350   2002   166160                    0                       0   \n",
       "79    2008   101141                    0                       0   \n",
       "792   2012        1                    0                       1   \n",
       "\n",
       "      Condition_Nigerian Used         Brand         Model  Transmission  \\\n",
       "515                         1  1.596743e+07  1.113051e+07  1.063830e+07   \n",
       "509                         1  9.092889e+06  1.094424e+07  1.063830e+07   \n",
       "1258                        1  1.000238e+07  1.016811e+07  1.063830e+07   \n",
       "1249                        1  7.787661e+06  7.699014e+06  1.063830e+07   \n",
       "614                         1  9.092889e+06  7.769482e+06  1.063830e+07   \n",
       "...                       ...           ...           ...           ...   \n",
       "802                         1  7.787661e+06  1.057059e+07  1.063830e+07   \n",
       "53                          1  2.974200e+07  2.974200e+07  1.063830e+07   \n",
       "350                         1  1.608721e+07  1.051324e+07  1.063830e+07   \n",
       "79                          1  9.092889e+06  7.769482e+06  1.063830e+07   \n",
       "792                         0  1.424728e+07  1.424728e+07  1.063830e+07   \n",
       "\n",
       "              Fuel  \n",
       "515   1.032572e+07  \n",
       "509   1.032572e+07  \n",
       "1258  1.032572e+07  \n",
       "1249  1.032572e+07  \n",
       "614   1.032572e+07  \n",
       "...            ...  \n",
       "802   1.032572e+07  \n",
       "53    1.032572e+07  \n",
       "350   1.032572e+07  \n",
       "79    1.032572e+07  \n",
       "792   1.177129e+07  \n",
       "\n",
       "[1164 rows x 9 columns]"
      ]
     },
     "execution_count": 52,
     "metadata": {},
     "output_type": "execute_result"
    }
   ],
   "source": [
    "X_train"
   ]
  },
  {
   "cell_type": "code",
   "execution_count": null,
   "id": "e9a8c523",
   "metadata": {},
   "outputs": [],
   "source": []
  },
  {
   "cell_type": "code",
   "execution_count": 75,
   "id": "93083fa7",
   "metadata": {},
   "outputs": [
    {
     "data": {
      "text/plain": [
       "0.036343520785627303"
      ]
     },
     "execution_count": 75,
     "metadata": {},
     "output_type": "execute_result"
    }
   ],
   "source": [
    "model = RandomForestRegressor(criterion='friedman_mse', n_estimators=26)\n",
    "model.fit(X_train, y_train)\n",
    "model.score(X_test, y_test)"
   ]
  },
  {
   "cell_type": "code",
   "execution_count": null,
   "id": "e7b0dd0b",
   "metadata": {},
   "outputs": [],
   "source": []
  },
  {
   "cell_type": "code",
   "execution_count": 78,
   "id": "c057901c",
   "metadata": {
    "scrolled": false
   },
   "outputs": [
    {
     "data": {
      "image/png": "[encoded data removed]",
      "text/plain": [
       "<Figure size 640x480 with 1 Axes>"
      ]
     },
     "metadata": {},
     "output_type": "display_data"
    }
   ],
   "source": [
    "import seaborn as sns\n",
    "sns.barplot(x=model.feature_importances_, y=model.feature_names_in_);"
   ]
  },
  {
   "cell_type": "code",
   "execution_count": 49,
   "id": "8295a961",
   "metadata": {},
   "outputs": [
    {
     "data": {
      "text/plain": [
       "Condition\n",
       "Nigerian Used    202799.067358\n",
       "Brand New        177919.000000\n",
       "Foreign Used     172098.946565\n",
       "Name: Mileage, dtype: float64"
      ]
     },
     "execution_count": 49,
     "metadata": {},
     "output_type": "execute_result"
    }
   ],
   "source": [
    "#Average Kilometer driven By Condition\n",
    "\n",
    "condMileages = newDf.groupby(\"Condition\")[\"Mileage\"].mean().sort_values(ascending=False)\n",
    "condMileages"
   ]
  },
  {
   "cell_type": "code",
   "execution_count": 50,
   "id": "a294ede5",
   "metadata": {},
   "outputs": [
    {
     "data": {
      "text/plain": [
       "(1421, 5)"
      ]
     },
     "execution_count": 50,
     "metadata": {},
     "output_type": "execute_result"
    }
   ],
   "source": [
    "newDf.shape"
   ]
  },
  {
   "cell_type": "code",
   "execution_count": 51,
   "id": "1cf66a7c",
   "metadata": {},
   "outputs": [
    {
     "data": {
      "text/html": [
       "<div>\n",
       "<style scoped>\n",
       "    .dataframe tbody tr th:only-of-type {\n",
       "        vertical-align: middle;\n",
       "    }\n",
       "\n",
       "    .dataframe tbody tr th {\n",
       "        vertical-align: top;\n",
       "    }\n",
       "\n",
       "    .dataframe thead th {\n",
       "        text-align: right;\n",
       "    }\n",
       "</style>\n",
       "<table border=\"1\" class=\"dataframe\">\n",
       "  <thead>\n",
       "    <tr style=\"text-align: right;\">\n",
       "      <th></th>\n",
       "      <th>Transmission</th>\n",
       "      <th>Condition</th>\n",
       "      <th>Year</th>\n",
       "      <th>Mileage</th>\n",
       "      <th>Price</th>\n",
       "    </tr>\n",
       "  </thead>\n",
       "  <tbody>\n",
       "    <tr>\n",
       "      <th>712</th>\n",
       "      <td>Automatic</td>\n",
       "      <td>Nigerian Used</td>\n",
       "      <td>2004</td>\n",
       "      <td>317339</td>\n",
       "      <td>2415000</td>\n",
       "    </tr>\n",
       "    <tr>\n",
       "      <th>1346</th>\n",
       "      <td>Automatic</td>\n",
       "      <td>Foreign Used</td>\n",
       "      <td>2010</td>\n",
       "      <td>55625</td>\n",
       "      <td>29120000</td>\n",
       "    </tr>\n",
       "    <tr>\n",
       "      <th>995</th>\n",
       "      <td>Automatic</td>\n",
       "      <td>Nigerian Used</td>\n",
       "      <td>2003</td>\n",
       "      <td>481080</td>\n",
       "      <td>2080000</td>\n",
       "    </tr>\n",
       "    <tr>\n",
       "      <th>587</th>\n",
       "      <td>Automatic</td>\n",
       "      <td>Nigerian Used</td>\n",
       "      <td>2007</td>\n",
       "      <td>97776</td>\n",
       "      <td>4515000</td>\n",
       "    </tr>\n",
       "    <tr>\n",
       "      <th>212</th>\n",
       "      <td>Automatic</td>\n",
       "      <td>Nigerian Used</td>\n",
       "      <td>2017</td>\n",
       "      <td>107837</td>\n",
       "      <td>11856000</td>\n",
       "    </tr>\n",
       "  </tbody>\n",
       "</table>\n",
       "</div>"
      ],
      "text/plain": [
       "     Transmission      Condition  Year  Mileage     Price\n",
       "712     Automatic  Nigerian Used  2004   317339   2415000\n",
       "1346    Automatic   Foreign Used  2010    55625  29120000\n",
       "995     Automatic  Nigerian Used  2003   481080   2080000\n",
       "587     Automatic  Nigerian Used  2007    97776   4515000\n",
       "212     Automatic  Nigerian Used  2017   107837  11856000"
      ]
     },
     "execution_count": 51,
     "metadata": {},
     "output_type": "execute_result"
    }
   ],
   "source": [
    "newDf.sample(5)"
   ]
  },
  {
   "cell_type": "code",
   "execution_count": 52,
   "id": "d51d27b6",
   "metadata": {},
   "outputs": [
    {
     "data": {
      "text/plain": [
       "Transmission    object\n",
       "Condition       object\n",
       "Year             int64\n",
       "Mileage          int64\n",
       "Price            int64\n",
       "dtype: object"
      ]
     },
     "execution_count": 52,
     "metadata": {},
     "output_type": "execute_result"
    }
   ],
   "source": [
    "newDf.dtypes"
   ]
  },
  {
   "cell_type": "code",
   "execution_count": 53,
   "id": "6dfbb3ef",
   "metadata": {},
   "outputs": [
    {
     "data": {
      "text/plain": [
       "['Transmission', 'Condition']"
      ]
     },
     "execution_count": 53,
     "metadata": {},
     "output_type": "execute_result"
    }
   ],
   "source": [
    "# Generating new categorical columns from the dataframe\n",
    "categ_cols = newDf.select_dtypes(include='O').columns.tolist()\n",
    "categ_cols"
   ]
  },
  {
   "cell_type": "code",
   "execution_count": 54,
   "id": "68570671",
   "metadata": {},
   "outputs": [
    {
     "data": {
      "text/html": [
       "<div>\n",
       "<style scoped>\n",
       "    .dataframe tbody tr th:only-of-type {\n",
       "        vertical-align: middle;\n",
       "    }\n",
       "\n",
       "    .dataframe tbody tr th {\n",
       "        vertical-align: top;\n",
       "    }\n",
       "\n",
       "    .dataframe thead th {\n",
       "        text-align: right;\n",
       "    }\n",
       "</style>\n",
       "<table border=\"1\" class=\"dataframe\">\n",
       "  <thead>\n",
       "    <tr style=\"text-align: right;\">\n",
       "      <th></th>\n",
       "      <th>Year</th>\n",
       "      <th>Mileage</th>\n",
       "      <th>Price</th>\n",
       "      <th>Transmission_AMT</th>\n",
       "      <th>Transmission_Automatic</th>\n",
       "      <th>Transmission_CVT</th>\n",
       "      <th>Transmission_Manual</th>\n",
       "      <th>Condition_Brand New</th>\n",
       "      <th>Condition_Foreign Used</th>\n",
       "      <th>Condition_Nigerian Used</th>\n",
       "    </tr>\n",
       "  </thead>\n",
       "  <tbody>\n",
       "    <tr>\n",
       "      <th>495</th>\n",
       "      <td>2015</td>\n",
       "      <td>88545</td>\n",
       "      <td>14560000</td>\n",
       "      <td>False</td>\n",
       "      <td>True</td>\n",
       "      <td>False</td>\n",
       "      <td>False</td>\n",
       "      <td>False</td>\n",
       "      <td>True</td>\n",
       "      <td>False</td>\n",
       "    </tr>\n",
       "    <tr>\n",
       "      <th>773</th>\n",
       "      <td>2006</td>\n",
       "      <td>226168</td>\n",
       "      <td>6300000</td>\n",
       "      <td>False</td>\n",
       "      <td>True</td>\n",
       "      <td>False</td>\n",
       "      <td>False</td>\n",
       "      <td>False</td>\n",
       "      <td>False</td>\n",
       "      <td>True</td>\n",
       "    </tr>\n",
       "    <tr>\n",
       "      <th>825</th>\n",
       "      <td>2011</td>\n",
       "      <td>58503</td>\n",
       "      <td>7140000</td>\n",
       "      <td>False</td>\n",
       "      <td>True</td>\n",
       "      <td>False</td>\n",
       "      <td>False</td>\n",
       "      <td>False</td>\n",
       "      <td>False</td>\n",
       "      <td>True</td>\n",
       "    </tr>\n",
       "  </tbody>\n",
       "</table>\n",
       "</div>"
      ],
      "text/plain": [
       "     Year  Mileage     Price  Transmission_AMT  Transmission_Automatic  \\\n",
       "495  2015    88545  14560000             False                    True   \n",
       "773  2006   226168   6300000             False                    True   \n",
       "825  2011    58503   7140000             False                    True   \n",
       "\n",
       "     Transmission_CVT  Transmission_Manual  Condition_Brand New  \\\n",
       "495             False                False                False   \n",
       "773             False                False                False   \n",
       "825             False                False                False   \n",
       "\n",
       "     Condition_Foreign Used  Condition_Nigerian Used  \n",
       "495                    True                    False  \n",
       "773                   False                     True  \n",
       "825                   False                     True  "
      ]
     },
     "execution_count": 54,
     "metadata": {},
     "output_type": "execute_result"
    }
   ],
   "source": [
    "# One Hot Encoding Using Pandas\n",
    "newDf = pd.get_dummies(newDf, columns=categ_cols)\n",
    "newDf.sample(3)"
   ]
  },
  {
   "cell_type": "code",
   "execution_count": 55,
   "id": "d3899c8c",
   "metadata": {},
   "outputs": [],
   "source": [
    "cols_to_replace = ['Transmission_AMT','Transmission_Automatic','Transmission_CVT','Transmission_Manual',\n",
    "                   'Condition_Brand New','Condition_Foreign Used','Condition_Nigerian Used']\n",
    "\n",
    "newDf[cols_to_replace] = newDf[cols_to_replace].replace({True: 1, False: 0})\n",
    "\n",
    "newDf.rename({'Transmission_AMT':'AMT','Transmission_Automatic':'Automatic','Transmission_CVT':'CVT',\n",
    "             'Transmission_Manual':'Manual','Condition_Brand New':'Brand New',\n",
    "              'Condition_Foreign Used':'Foreign Used','Condition_Nigerian Used':'Nigerian Used'},axis=1, inplace=True)"
   ]
  },
  {
   "cell_type": "code",
   "execution_count": 56,
   "id": "bb3135c5",
   "metadata": {},
   "outputs": [
    {
     "data": {
      "text/html": [
       "<div>\n",
       "<style scoped>\n",
       "    .dataframe tbody tr th:only-of-type {\n",
       "        vertical-align: middle;\n",
       "    }\n",
       "\n",
       "    .dataframe tbody tr th {\n",
       "        vertical-align: top;\n",
       "    }\n",
       "\n",
       "    .dataframe thead th {\n",
       "        text-align: right;\n",
       "    }\n",
       "</style>\n",
       "<table border=\"1\" class=\"dataframe\">\n",
       "  <thead>\n",
       "    <tr style=\"text-align: right;\">\n",
       "      <th></th>\n",
       "      <th>Year</th>\n",
       "      <th>Mileage</th>\n",
       "      <th>Price</th>\n",
       "      <th>AMT</th>\n",
       "      <th>Automatic</th>\n",
       "      <th>CVT</th>\n",
       "      <th>Manual</th>\n",
       "      <th>Brand New</th>\n",
       "      <th>Foreign Used</th>\n",
       "      <th>Nigerian Used</th>\n",
       "    </tr>\n",
       "  </thead>\n",
       "  <tbody>\n",
       "    <tr>\n",
       "      <th>1405</th>\n",
       "      <td>2002</td>\n",
       "      <td>249341</td>\n",
       "      <td>3360000</td>\n",
       "      <td>0</td>\n",
       "      <td>1</td>\n",
       "      <td>0</td>\n",
       "      <td>0</td>\n",
       "      <td>0</td>\n",
       "      <td>0</td>\n",
       "      <td>1</td>\n",
       "    </tr>\n",
       "    <tr>\n",
       "      <th>713</th>\n",
       "      <td>2007</td>\n",
       "      <td>363098</td>\n",
       "      <td>5408000</td>\n",
       "      <td>0</td>\n",
       "      <td>1</td>\n",
       "      <td>0</td>\n",
       "      <td>0</td>\n",
       "      <td>0</td>\n",
       "      <td>0</td>\n",
       "      <td>1</td>\n",
       "    </tr>\n",
       "    <tr>\n",
       "      <th>792</th>\n",
       "      <td>2008</td>\n",
       "      <td>107996</td>\n",
       "      <td>4160000</td>\n",
       "      <td>0</td>\n",
       "      <td>1</td>\n",
       "      <td>0</td>\n",
       "      <td>0</td>\n",
       "      <td>0</td>\n",
       "      <td>0</td>\n",
       "      <td>1</td>\n",
       "    </tr>\n",
       "  </tbody>\n",
       "</table>\n",
       "</div>"
      ],
      "text/plain": [
       "      Year  Mileage    Price  AMT  Automatic  CVT  Manual  Brand New  \\\n",
       "1405  2002   249341  3360000    0          1    0       0          0   \n",
       "713   2007   363098  5408000    0          1    0       0          0   \n",
       "792   2008   107996  4160000    0          1    0       0          0   \n",
       "\n",
       "      Foreign Used  Nigerian Used  \n",
       "1405             0              1  \n",
       "713              0              1  \n",
       "792              0              1  "
      ]
     },
     "execution_count": 56,
     "metadata": {},
     "output_type": "execute_result"
    }
   ],
   "source": [
    "newDf.sample(3)"
   ]
  },
  {
   "cell_type": "markdown",
   "id": "699d230a",
   "metadata": {},
   "source": [
    "Data Segmentation"
   ]
  },
  {
   "cell_type": "code",
   "execution_count": 57,
   "id": "7e75018d",
   "metadata": {
    "scrolled": false
   },
   "outputs": [],
   "source": [
    "X = newDf.drop(\"Price\", axis=1)\n",
    "y = newDf[\"Price\"]"
   ]
  },
  {
   "cell_type": "code",
   "execution_count": 59,
   "id": "8e2bbdfe",
   "metadata": {},
   "outputs": [
    {
     "data": {
      "text/plain": [
       "((1065, 9), (356, 9), (1065,), (356,))"
      ]
     },
     "execution_count": 59,
     "metadata": {},
     "output_type": "execute_result"
    }
   ],
   "source": [
    "# split data into train and testing set\n",
    "X_train, X_test, y_train, y_test = train_test_split(X,y,test_size=0.25, random_state=42, shuffle=True)\n",
    "\n",
    "\n",
    "# Check the shape of the splitted data\n",
    "X_train.shape, X_test.shape, y_train.shape, y_test.shape"
   ]
  },
  {
   "cell_type": "code",
   "execution_count": 60,
   "id": "9247b8c9",
   "metadata": {},
   "outputs": [],
   "source": [
    "scaler = QuantileTransformer()\n",
    "X_train_scaled = scaler.fit_transform(X_train)\n",
    "X_test_scaled = scaler.transform(X_test)\n"
   ]
  },
  {
   "cell_type": "code",
   "execution_count": 62,
   "id": "3b132e3e",
   "metadata": {},
   "outputs": [
    {
     "data": {
      "text/html": [
       "<style>#sk-container-id-1 {color: black;}#sk-container-id-1 pre{padding: 0;}#sk-container-id-1 div.sk-toggleable {background-color: white;}#sk-container-id-1 label.sk-toggleable__label {cursor: pointer;display: block;width: 100%;margin-bottom: 0;padding: 0.3em;box-sizing: border-box;text-align: center;}#sk-container-id-1 label.sk-toggleable__label-arrow:before {content: \"▸\";float: left;margin-right: 0.25em;color: #696969;}#sk-container-id-1 label.sk-toggleable__label-arrow:hover:before {color: black;}#sk-container-id-1 div.sk-estimator:hover label.sk-toggleable__label-arrow:before {color: black;}#sk-container-id-1 div.sk-toggleable__content {max-height: 0;max-width: 0;overflow: hidden;text-align: left;background-color: #f0f8ff;}#sk-container-id-1 div.sk-toggleable__content pre {margin: 0.2em;color: black;border-radius: 0.25em;background-color: #f0f8ff;}#sk-container-id-1 input.sk-toggleable__control:checked~div.sk-toggleable__content {max-height: 200px;max-width: 100%;overflow: auto;}#sk-container-id-1 input.sk-toggleable__control:checked~label.sk-toggleable__label-arrow:before {content: \"▾\";}#sk-container-id-1 div.sk-estimator input.sk-toggleable__control:checked~label.sk-toggleable__label {background-color: #d4ebff;}#sk-container-id-1 div.sk-label input.sk-toggleable__control:checked~label.sk-toggleable__label {background-color: #d4ebff;}#sk-container-id-1 input.sk-hidden--visually {border: 0;clip: rect(1px 1px 1px 1px);clip: rect(1px, 1px, 1px, 1px);height: 1px;margin: -1px;overflow: hidden;padding: 0;position: absolute;width: 1px;}#sk-container-id-1 div.sk-estimator {font-family: monospace;background-color: #f0f8ff;border: 1px dotted black;border-radius: 0.25em;box-sizing: border-box;margin-bottom: 0.5em;}#sk-container-id-1 div.sk-estimator:hover {background-color: #d4ebff;}#sk-container-id-1 div.sk-parallel-item::after {content: \"\";width: 100%;border-bottom: 1px solid gray;flex-grow: 1;}#sk-container-id-1 div.sk-label:hover label.sk-toggleable__label {background-color: #d4ebff;}#sk-container-id-1 div.sk-serial::before {content: \"\";position: absolute;border-left: 1px solid gray;box-sizing: border-box;top: 0;bottom: 0;left: 50%;z-index: 0;}#sk-container-id-1 div.sk-serial {display: flex;flex-direction: column;align-items: center;background-color: white;padding-right: 0.2em;padding-left: 0.2em;position: relative;}#sk-container-id-1 div.sk-item {position: relative;z-index: 1;}#sk-container-id-1 div.sk-parallel {display: flex;align-items: stretch;justify-content: center;background-color: white;position: relative;}#sk-container-id-1 div.sk-item::before, #sk-container-id-1 div.sk-parallel-item::before {content: \"\";position: absolute;border-left: 1px solid gray;box-sizing: border-box;top: 0;bottom: 0;left: 50%;z-index: -1;}#sk-container-id-1 div.sk-parallel-item {display: flex;flex-direction: column;z-index: 1;position: relative;background-color: white;}#sk-container-id-1 div.sk-parallel-item:first-child::after {align-self: flex-end;width: 50%;}#sk-container-id-1 div.sk-parallel-item:last-child::after {align-self: flex-start;width: 50%;}#sk-container-id-1 div.sk-parallel-item:only-child::after {width: 0;}#sk-container-id-1 div.sk-dashed-wrapped {border: 1px dashed gray;margin: 0 0.4em 0.5em 0.4em;box-sizing: border-box;padding-bottom: 0.4em;background-color: white;}#sk-container-id-1 div.sk-label label {font-family: monospace;font-weight: bold;display: inline-block;line-height: 1.2em;}#sk-container-id-1 div.sk-label-container {text-align: center;}#sk-container-id-1 div.sk-container {/* jupyter's `normalize.less` sets `[hidden] { display: none; }` but bootstrap.min.css set `[hidden] { display: none !important; }` so we also need the `!important` here to be able to override the default hidden behavior on the sphinx rendered scikit-learn.org. See: https://github.com/scikit-learn/scikit-learn/issues/21755 */display: inline-block !important;position: relative;}#sk-container-id-1 div.sk-text-repr-fallback {display: none;}</style><div id=\"sk-container-id-1\" class=\"sk-top-container\"><div class=\"sk-text-repr-fallback\"><pre>LinearRegression()</pre><b>In a Jupyter environment, please rerun this cell to show the HTML representation or trust the notebook. <br />On GitHub, the HTML representation is unable to render, please try loading this page with nbviewer.org.</b></div><div class=\"sk-container\" hidden><div class=\"sk-item\"><div class=\"sk-estimator sk-toggleable\"><input class=\"sk-toggleable__control sk-hidden--visually\" id=\"sk-estimator-id-1\" type=\"checkbox\" checked><label for=\"sk-estimator-id-1\" class=\"sk-toggleable__label sk-toggleable__label-arrow\">LinearRegression</label><div class=\"sk-toggleable__content\"><pre>LinearRegression()</pre></div></div></div></div></div>"
      ],
      "text/plain": [
       "LinearRegression()"
      ]
     },
     "execution_count": 62,
     "metadata": {},
     "output_type": "execute_result"
    }
   ],
   "source": [
    "lr = LinearRegression()\n",
    "lr.fit(X_train, y_train)"
   ]
  },
  {
   "cell_type": "code",
   "execution_count": 63,
   "id": "7ce58ef0",
   "metadata": {},
   "outputs": [],
   "source": [
    "y_pred = lr.predict(X_test)"
   ]
  },
  {
   "cell_type": "code",
   "execution_count": 64,
   "id": "840db4f6",
   "metadata": {},
   "outputs": [
    {
     "name": "stdout",
     "output_type": "stream",
     "text": [
      "Linear Regressor - R2 Score: 0.44306368472034585, MSE: 50223140567241.03\n"
     ]
    }
   ],
   "source": [
    "# Evaluate Model\n",
    "r2_lr = r2_score(y_test, y_pred)\n",
    "mse_lr = mean_squared_error(y_test, y_pred)\n",
    "\n",
    "print(f\"Linear Regressor - R2 Score: {r2_lr}, MSE: {mse_lr}\")\n"
   ]
  },
  {
   "cell_type": "code",
   "execution_count": null,
   "id": "e8937290",
   "metadata": {},
   "outputs": [],
   "source": []
  }
 ],
 "metadata": {
  "kernelspec": {
   "display_name": "Python 3 (ipykernel)",
   "language": "python",
   "name": "python3"
  },
  "language_info": {
   "codemirror_mode": {
    "name": "ipython",
    "version": 3
   },
   "file_extension": ".py",
   "mimetype": "text/x-python",
   "name": "python",
   "nbconvert_exporter": "python",
   "pygments_lexer": "ipython3",
   "version": "3.11.5"
  }
 },
 "nbformat": 4,
 "nbformat_minor": 5
}
